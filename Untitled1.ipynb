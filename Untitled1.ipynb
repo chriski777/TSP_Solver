{
 "cells": [
  {
   "cell_type": "code",
   "execution_count": 1,
   "metadata": {
    "collapsed": false
   },
   "outputs": [
    {
     "name": "stdout",
     "output_type": "stream",
     "text": [
      "Cost for nearestNeighbor: 44555.0\n",
      "Cost for greedy: 40186.0\n",
      "Cost for Convex Hull Insertion : 34577.0\n",
      "Actual Optimal Solution Cost: 33551.0\n"
     ]
    }
   ],
   "source": [
    "import networkx as nx\n",
    "import Graph_TSP as Graph\n",
    "import dataset_processing as D\n",
    "import numpy as np\n",
    "import matplotlib.pyplot as plt\n",
    "import os\n",
    "#Data directory names\n",
    "dataDir = \"datasetTSP\"\n",
    "att48 = \"att48\"\n",
    "\n",
    "######################\n",
    "###Data Processing\n",
    "######################\n",
    "#Feed in a directory which has your xy coordinates and your adjacency matrices\n",
    "att48_DS = D.dataset_processing(dataDir,att48)\n",
    "\n",
    "######################\n",
    "###Initialization\n",
    "######################\n",
    "att48_graph = Graph.Graph_TSP(att48_DS.nodeDict,att48_DS.adjMatrix)\n",
    "\n",
    "nearestNeighbor = att48_graph.nearestNeighbor()\n",
    "nodeDict = att48_graph.nodeDict\n",
    "greedy = att48_graph.greedy()\n",
    "convHullTour, visualTour = att48_graph.convexhullInsert()\n",
    "optimalPath = att48_DS.solution\n",
    "print(\"Cost for nearestNeighbor: \" + str(att48_graph.cost(nearestNeighbor)))\n",
    "print(\"Cost for greedy: \" + str(att48_graph.cost(greedy)))\n",
    "print(\"Cost for Convex Hull Insertion : \" + str(att48_graph.cost(convHullTour)))\n",
    "print(\"Actual Optimal Solution Cost: \" +str(att48_graph.cost(optimalPath)))\n"
   ]
  },
  {
   "cell_type": "code",
   "execution_count": null,
   "metadata": {
    "collapsed": false
   },
   "outputs": [],
   "source": []
  },
  {
   "cell_type": "code",
   "execution_count": null,
   "metadata": {
    "collapsed": false
   },
   "outputs": [],
   "source": []
  },
  {
   "cell_type": "code",
   "execution_count": null,
   "metadata": {
    "collapsed": false
   },
   "outputs": [],
   "source": []
  },
  {
   "cell_type": "code",
   "execution_count": 2,
   "metadata": {
    "collapsed": false
   },
   "outputs": [],
   "source": [
    "from scipy.sparse.csgraph import minimum_spanning_tree\n",
    "import networkx.algorithms as naa\n",
    "\n",
    "X = att48_DS.adjMatrix\n",
    "Tcsr = minimum_spanning_tree(X)\n"
   ]
  },
  {
   "cell_type": "code",
   "execution_count": 43,
   "metadata": {
    "collapsed": false
   },
   "outputs": [
    {
     "name": "stdout",
     "output_type": "stream",
     "text": [
      "1\n",
      "2\n",
      "3\n",
      "4\n",
      "5\n",
      "6\n",
      "7\n",
      "8\n",
      "9\n",
      "10\n",
      "11\n",
      "12\n",
      "13\n",
      "14\n",
      "15\n",
      "16\n",
      "17\n",
      "18\n",
      "19\n",
      "20\n",
      "21\n",
      "22\n",
      "23\n",
      "24\n",
      "25\n",
      "26\n",
      "27\n",
      "28\n",
      "29\n",
      "30\n",
      "31\n",
      "32\n",
      "33\n",
      "34\n",
      "35\n",
      "36\n",
      "37\n",
      "38\n",
      "39\n",
      "40\n",
      "41\n",
      "42\n",
      "43\n",
      "44\n",
      "45\n",
      "46\n",
      "47\n",
      "47\n"
     ]
    }
   ],
   "source": [
    "MSTedges = []\n",
    "degreeDict = dict(zip(nodeDict.keys(),[0]*len(nodeDict.keys())))\n",
    "Z = Tcsr.toarray().astype(float)\n",
    "counter = 0\n",
    "for i in range(len(Z)):\n",
    "    array = np.nonzero(Z[i])[0]\n",
    "    for index in array:\n",
    "        if index.size != 0:\n",
    "            degreeDict[i] += 1\n",
    "            degreeDict[index] +=1\n",
    "            tuplex = (i,index)\n",
    "            MSTedges.append(tuplex)\n",
    "#STEP 2: Isolate the vertices of the MST with odd degree\n",
    "OddVerts = [x for x in degreeDict.keys() if degreeDict[x] %2 != 0]\n",
    "#STEP 3: Only Consider the values in OddVerts and form a min-weight perfect matching\n",
    "H = nx.Graph()\n",
    "H.add_nodes_from(nodeDict.keys())\n",
    "for i in range(len(OddVerts)):\n",
    "    for j in range(len(OddVerts)):\n",
    "        if i != j:\n",
    "            H.add_edge(OddVerts[i],OddVerts[j],weight = -att48_DS.adjMatrix[OddVerts[i]][OddVerts[j]])\n",
    "edgeMWDict = naa.max_weight_matching(H, maxcardinality = True)\n",
    "minWeight = [(key,edgeMWDict[key]) for key in edgeMWDict.keys()]\n",
    "unionMW_MST = MSTedges[:]\n",
    "for tup in minWeight:\n",
    "    unionMW_MST.append(tup)\n",
    "    #Only add first index since both edges are returned for instance: (0,1) & (1,0) are returned\n",
    "    degreeDict[tup[0]] +=1\n",
    "print len(MSTedges)\n"
   ]
  },
  {
   "cell_type": "code",
   "execution_count": 33,
   "metadata": {
    "collapsed": false
   },
   "outputs": [
    {
     "data": {
      "image/png": "[encoded data removed]",
      "text/plain": [
       "<matplotlib.figure.Figure at 0x1180eb850>"
      ]
     },
     "metadata": {},
     "output_type": "display_data"
    }
   ],
   "source": [
    "fig = plt.figure()\n",
    "G = nx.Graph()\n",
    "G.add_nodes_from(nodeDict.keys())\n",
    "nx.draw_networkx_nodes(G,nodeDict,node_size=10,nodelist = nodeDict.keys(),node_color='r')\n",
    "nx.draw_networkx_edges(G,nodeDict, unionMW_MST)\n",
    "\n",
    "plt.show()\n"
   ]
  },
  {
   "cell_type": "code",
   "execution_count": 22,
   "metadata": {
    "collapsed": false
   },
   "outputs": [],
   "source": [
    "import random\n",
    "\n",
    "#calculate an eulerian tour now\n",
    "#Implementation of Fleury's Algorithm\n",
    "def eulerianTour(setOfEdges):\n",
    "    #eulerianPath is a stack\n",
    "    eulerianPath = []\n",
    "    for each \n",
    "    #Randomly select a vertex as a vertex to start from\n",
    "    randomEdge = random.choice(unionMW_MST)\n",
    "    print find_euler_tour(unionMW_MST)\n",
    "    return eulerianPath"
   ]
  },
  {
   "cell_type": "code",
   "execution_count": 24,
   "metadata": {
    "collapsed": false
   },
   "outputs": [],
   "source": [
    "'tour' is a stack\n",
    "\n",
    "find_tour(u):\n",
    "\tfor each edge e=(u,v) in E:\n",
    "\t\tremove e from E\n",
    "\t\tfind_tour(v)\n",
    "\tprepend u to tour\n",
    "\n",
    "to find the tour, clear stack 'tour' and call find_tour(u),\n",
    "where u is any vertex with a non-zero degree.\n"
   ]
  },
  {
   "cell_type": "code",
   "execution_count": null,
   "metadata": {
    "collapsed": true
   },
   "outputs": [],
   "source": []
  }
 ],
 "metadata": {
  "anaconda-cloud": {},
  "kernelspec": {
   "display_name": "Python 2",
   "language": "python",
   "name": "python2"
  },
  "language_info": {
   "codemirror_mode": {
    "name": "ipython",
    "version": 2
   },
   "file_extension": ".py",
   "mimetype": "text/x-python",
   "name": "python",
   "nbconvert_exporter": "python",
   "pygments_lexer": "ipython2",
   "version": "2.7.13"
  }
 },
 "nbformat": 4,
 "nbformat_minor": 2
}
