{
 "cells": [
  {
   "cell_type": "code",
   "execution_count": 1,
   "metadata": {
    "collapsed": false
   },
   "outputs": [
    {
     "name": "stdout",
     "output_type": "stream",
     "text": [
      "Cost for nearestNeighbor: 44419.0\n",
      "Cost for greedy: 40186.0\n",
      "Cost for Convex Hull Insertion : 34577.0\n",
      "Actual Optimal Solution Cost: 33551.0\n"
     ]
    }
   ],
   "source": [
    "import networkx as nx\n",
    "import Graph_TSP as Graph\n",
    "import dataset_processing as D\n",
    "import numpy as np\n",
    "import matplotlib.pyplot as plt\n",
    "import os\n",
    "#Data directory names\n",
    "dataDir = \"datasetTSP\"\n",
    "att48 = \"att48\"\n",
    "\n",
    "######################\n",
    "###Data Processing\n",
    "######################\n",
    "#Feed in a directory which has your xy coordinates and your adjacency matrices\n",
    "att48_DS = D.dataset_processing(dataDir,att48)\n",
    "\n",
    "######################\n",
    "###Initialization\n",
    "######################\n",
    "att48_graph = Graph.Graph_TSP(att48_DS.nodeDict,att48_DS.adjMatrix)\n",
    "\n",
    "nearestNeighbor = att48_graph.nearestNeighbor()\n",
    "nodeDict = att48_graph.nodeDict\n",
    "greedy = att48_graph.greedy()\n",
    "convHullTour, visualTour = att48_graph.convexhullInsert()\n",
    "optimalPath = att48_DS.solution\n",
    "print(\"Cost for nearestNeighbor: \" + str(att48_graph.cost(nearestNeighbor)))\n",
    "print(\"Cost for greedy: \" + str(att48_graph.cost(greedy)))\n",
    "print(\"Cost for Convex Hull Insertion : \" + str(att48_graph.cost(convHullTour)))\n",
    "print(\"Actual Optimal Solution Cost: \" +str(att48_graph.cost(optimalPath)))\n"
   ]
  },
  {
   "cell_type": "code",
   "execution_count": 255,
   "metadata": {
    "collapsed": false
   },
   "outputs": [
    {
     "name": "stdout",
     "output_type": "stream",
     "text": [
      "38869.0\n"
     ]
    }
   ],
   "source": [
    "print(str(att48_graph.cost(solution)))"
   ]
  },
  {
   "cell_type": "code",
   "execution_count": null,
   "metadata": {
    "collapsed": false
   },
   "outputs": [],
   "source": []
  },
  {
   "cell_type": "code",
   "execution_count": null,
   "metadata": {
    "collapsed": false
   },
   "outputs": [],
   "source": []
  },
  {
   "cell_type": "code",
   "execution_count": 4,
   "metadata": {
    "collapsed": false
   },
   "outputs": [],
   "source": [
    "from scipy.sparse.csgraph import minimum_spanning_tree\n",
    "import networkx.algorithms as naa\n",
    "\n",
    "X = att48_DS.adjMatrix\n",
    "Tcsr = minimum_spanning_tree(X)\n"
   ]
  },
  {
   "cell_type": "code",
   "execution_count": 6,
   "metadata": {
    "collapsed": false
   },
   "outputs": [
    {
     "data": {
      "text/plain": [
       "48"
      ]
     },
     "execution_count": 6,
     "metadata": {},
     "output_type": "execute_result"
    }
   ],
   "source": [
    "MSTedges = []\n",
    "degreeDict = dict(zip(nodeDict.keys(),[0]*len(nodeDict.keys())))\n",
    "Z = Tcsr.toarray().astype(float)\n",
    "for i in range(len(Z)):\n",
    "    array = np.nonzero(Z[i])[0]\n",
    "    for index in array:\n",
    "        if index.size != 0:\n",
    "            degreeDict[i] += 1\n",
    "            degreeDict[index] +=1\n",
    "            tuplex = (i,index)\n",
    "            MSTedges.append(tuplex)\n",
    "\n",
    "#STEP 2: Isolate the vertices of the MST with odd degree\n",
    "OddVerts = [x for x in degreeDict.keys() if degreeDict[x] %2 != 0]\n",
    "#STEP 3: Only Consider the values in OddVerts and form a min-weight perfect matching\n",
    "H = nx.Graph()\n",
    "H.add_nodes_from(nodeDict.keys())\n",
    "for i in range(len(OddVerts)):\n",
    "    for j in range(len(OddVerts)):\n",
    "        if i != j:\n",
    "            H.add_edge(OddVerts[i],OddVerts[j],weight = -att48_DS.adjMatrix[OddVerts[i]][OddVerts[j]])\n",
    "edgeMWDict = naa.max_weight_matching(H, maxcardinality = True)\n",
    "minWeight = [(key,edgeMWDict[key]) for key in edgeMWDict.keys()]\n",
    "uniqueMW = []\n",
    "#Prune out redundant Tuples\n",
    "for edge in minWeight:\n",
    "    if edge not in uniqueMW and (edge[1],edge[0]) not in uniqueMW:\n",
    "        uniqueMW.append(edge)\n",
    "unionMW_MST = MSTedges[:]\n",
    "for tup in uniqueMW:\n",
    "    #Only add first index since both edges are returned for instance: (0,1) & (1,0) are returned\n",
    "    unionMW_MST.append(tup)\n",
    "    degreeDict[tup[0]] +=1\n",
    "    degreeDict[tup[1]] +=1\n",
    "#Retrieve the Eulerian Circuit\n",
    "eulerianCircuit = eulerianTour(unionMW_MST,nodeDict)\n",
    "shortCut = []\n",
    "unvisitedPath = []\n",
    "totalPath = [i for sub in eulerianCircuit for i in sub]\n",
    "for node in totalPath:\n",
    "    if node not in unvisitedPath:\n",
    "        shortCut.append(node)\n",
    "        unvisitedPath.append(node)\n",
    "solution = []\n",
    "for i in range(0,len(shortCut)):\n",
    "    if i < len(shortCut) - 1:\n",
    "        solution.append((shortCut[i],shortCut[i+1]))\n",
    "    else:\n",
    "        solution.append((shortCut[i],shortCut[0]))\n",
    "len(solution)"
   ]
  },
  {
   "cell_type": "code",
   "execution_count": 7,
   "metadata": {
    "collapsed": false
   },
   "outputs": [
    {
     "data": {
      "image/png": "[encoded data removed]",
      "text/plain": [
       "<matplotlib.figure.Figure at 0x114b01c10>"
      ]
     },
     "metadata": {},
     "output_type": "display_data"
    }
   ],
   "source": [
    "fig = plt.figure()\n",
    "G = nx.Graph()\n",
    "G.add_nodes_from(nodeDict.keys())\n",
    "nx.draw_networkx_nodes(G,nodeDict,node_size=10,nodelist = nodeDict.keys(),node_color='r')\n",
    "nx.draw_networkx_edges(G,nodeDict, solution)\n",
    "\n",
    "plt.show()\n"
   ]
  },
  {
   "cell_type": "code",
   "execution_count": null,
   "metadata": {
    "collapsed": false
   },
   "outputs": [],
   "source": []
  },
  {
   "cell_type": "code",
   "execution_count": 5,
   "metadata": {
    "collapsed": false
   },
   "outputs": [],
   "source": [
    "def eulerianTour(setOfEdges,vertDict):\n",
    "    tempGraph = nx.MultiGraph()\n",
    "    tempGraph.add_nodes_from(vertDict.keys())\n",
    "    tempGraph.add_edges_from(setOfEdges)\n",
    "    return list(nx.eulerian_circuit(tempGraph))\n"
   ]
  },
  {
   "cell_type": "code",
   "execution_count": null,
   "metadata": {
    "collapsed": true
   },
   "outputs": [],
   "source": []
  }
 ],
 "metadata": {
  "anaconda-cloud": {},
  "kernelspec": {
   "display_name": "Python 2",
   "language": "python",
   "name": "python2"
  },
  "language_info": {
   "codemirror_mode": {
    "name": "ipython",
    "version": 2
   },
   "file_extension": ".py",
   "mimetype": "text/x-python",
   "name": "python",
   "nbconvert_exporter": "python",
   "pygments_lexer": "ipython2",
   "version": "2.7.13"
  }
 },
 "nbformat": 4,
 "nbformat_minor": 2
}
