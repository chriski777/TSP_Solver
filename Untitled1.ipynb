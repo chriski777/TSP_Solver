{
 "cells": [
  {
   "cell_type": "code",
   "execution_count": 1,
   "metadata": {
    "collapsed": false
   },
   "outputs": [
    {
     "name": "stdout",
     "output_type": "stream",
     "text": [
      "Cost for nearestNeighbor: 39264.0\n",
      "Cost for greedy: 40186.0\n",
      "Cost for Convex Hull Insertion : 34577.0\n",
      "Actual Optimal Solution Cost: 33551.0\n"
     ]
    }
   ],
   "source": [
    "import networkx as nx\n",
    "import Graph_TSP as Graph\n",
    "import dataset_processing as D\n",
    "import numpy as np\n",
    "import matplotlib.pyplot as plt\n",
    "import os\n",
    "#Data directory names\n",
    "dataDir = \"datasetTSP\"\n",
    "att48 = \"att48\"\n",
    "\n",
    "######################\n",
    "###Data Processing\n",
    "######################\n",
    "#Feed in a directory which has your xy coordinates and your adjacency matrices\n",
    "att48_DS = D.dataset_processing(dataDir,att48)\n",
    "\n",
    "######################\n",
    "###Initialization\n",
    "######################\n",
    "att48_graph = Graph.Graph_TSP(att48_DS.nodeDict,att48_DS.adjMatrix)\n",
    "\n",
    "nearestNeighbor = att48_graph.nearestNeighbor()\n",
    "nodeDict = att48_graph.nodeDict\n",
    "greedy = att48_graph.greedy()\n",
    "convHullTour, visualTour = att48_graph.convexhullInsert()\n",
    "optimalPath = att48_DS.solution\n",
    "print(\"Cost for nearestNeighbor: \" + str(att48_graph.cost(nearestNeighbor)))\n",
    "print(\"Cost for greedy: \" + str(att48_graph.cost(greedy)))\n",
    "print(\"Cost for Convex Hull Insertion : \" + str(att48_graph.cost(convHullTour)))\n",
    "print(\"Actual Optimal Solution Cost: \" +str(att48_graph.cost(optimalPath)))\n"
   ]
  },
  {
   "cell_type": "code",
   "execution_count": null,
   "metadata": {
    "collapsed": false
   },
   "outputs": [],
   "source": []
  },
  {
   "cell_type": "code",
   "execution_count": null,
   "metadata": {
    "collapsed": false
   },
   "outputs": [],
   "source": []
  },
  {
   "cell_type": "code",
   "execution_count": null,
   "metadata": {
    "collapsed": false
   },
   "outputs": [],
   "source": []
  },
  {
   "cell_type": "code",
   "execution_count": 19,
   "metadata": {
    "collapsed": false
   },
   "outputs": [],
   "source": [
    "from scipy.sparse.csgraph import minimum_spanning_tree\n",
    "import networkx.algorithms as naa\n",
    "\n",
    "X = att48_DS.adjMatrix\n",
    "Tcsr = minimum_spanning_tree(X)\n"
   ]
  },
  {
   "cell_type": "code",
   "execution_count": 31,
   "metadata": {
    "collapsed": false
   },
   "outputs": [
    {
     "name": "stdout",
     "output_type": "stream",
     "text": [
      "{0: 5, 1: 3, 2: 3, 3: 3, 4: 5, 5: 5, 6: 2, 7: 3, 8: 5, 9: 4, 10: 5, 11: 2, 12: 3, 13: 5, 14: 5, 15: 3, 16: 3, 17: 5, 18: 2, 19: 3, 20: 3, 21: 5, 22: 2, 23: 3, 24: 5, 25: 2, 26: 5, 27: 2, 28: 2, 29: 3, 30: 2, 31: 3, 32: 5, 33: 2, 34: 2, 35: 3, 36: 2, 37: 2, 38: 5, 39: 2, 40: 3, 41: 2, 42: 3, 43: 2, 44: 3, 45: 3, 46: 2, 47: 2}\n",
      "[(0, 7), (1, 3), (2, 40), (3, 1), (4, 38), (5, 26), (7, 0), (8, 14), (10, 12), (12, 10), (13, 24), (14, 8), (15, 21), (16, 42), (17, 45), (19, 32), (20, 31), (21, 15), (23, 44), (24, 13), (26, 5), (29, 35), (31, 20), (32, 19), (35, 29), (38, 4), (40, 2), (42, 16), (44, 23), (45, 17)]\n"
     ]
    }
   ],
   "source": [
    "MSTedges = []\n",
    "degreeDict = dict(zip(nodeDict.keys(),[0]*len(nodeDict.keys())))\n",
    "Z = Tcsr.toarray().astype(float)\n",
    "for i in range(len(Z)):\n",
    "    array = np.nonzero(Z[i])[0]\n",
    "    for index in array:\n",
    "        if index.size != 0:\n",
    "            degreeDict[i] += 1\n",
    "            degreeDict[index] +=1\n",
    "            tuplex = (i,index)\n",
    "            MSTedges.append(tuplex)\n",
    "#STEP 2: Isolate the vertices of the MST with odd degree\n",
    "OddVerts = [x for x in degreeDict.keys() if degreeDict[x] %2 != 0]\n",
    "#STEP 3: Only Consider the values in OddVerts and form a min-weight perfect matching\n",
    "H = nx.Graph()\n",
    "H.add_nodes_from(nodeDict.keys())\n",
    "for i in range(len(OddVerts)):\n",
    "    for j in range(len(OddVerts)):\n",
    "        if i != j:\n",
    "            H.add_edge(OddVerts[i],OddVerts[j],weight = -att48_DS.adjMatrix[OddVerts[i]][OddVerts[j]])\n",
    "edgeMWDict = naa.max_weight_matching(H, maxcardinality = True)\n",
    "minWeight = [(key,edgeMWDict[key]) for key in edgeMWDict.keys()]\n",
    "unionMW_MST = MSTedges[:]\n",
    "for tup in minWeight:\n",
    "    unionMW_MST.append(tup)\n",
    "    degreeDict[tup[0]] +=1\n",
    "    degreeDict[tup[1]] +=1\n",
    "print degreeDict\n",
    "print minWeight"
   ]
  },
  {
   "cell_type": "code",
   "execution_count": 24,
   "metadata": {
    "collapsed": false
   },
   "outputs": [
    {
     "data": {
      "image/png": "[encoded data removed]",
      "text/plain": [
       "<matplotlib.figure.Figure at 0x111aea790>"
      ]
     },
     "metadata": {},
     "output_type": "display_data"
    }
   ],
   "source": [
    "fig = plt.figure()\n",
    "G = nx.Graph()\n",
    "G.add_nodes_from(nodeDict.keys())\n",
    "nx.draw_networkx_nodes(G,nodeDict,node_size=10,nodelist = nodeDict.keys(),node_color='r')\n",
    "nx.draw_networkx_edges(G,nodeDict, MSTedges)\n",
    "\n",
    "plt.show()\n"
   ]
  },
  {
   "cell_type": "code",
   "execution_count": 23,
   "metadata": {
    "collapsed": false
   },
   "outputs": [
    {
     "data": {
      "image/png": "[encoded data removed]",
      "text/plain": [
       "<matplotlib.figure.Figure at 0x1193485d0>"
      ]
     },
     "metadata": {},
     "output_type": "display_data"
    }
   ],
   "source": [
    "fig = plt.figure()\n",
    "G = nx.Graph()\n",
    "G.add_nodes_from(nodeDict.keys())\n",
    "nx.draw_networkx_nodes(G,nodeDict,node_size=10,nodelist = nodeDict.keys(),node_color='r')\n",
    "nx.draw_networkx_edges(G,nodeDict, minWeight)\n",
    "\n",
    "plt.show()\n"
   ]
  },
  {
   "cell_type": "code",
   "execution_count": null,
   "metadata": {
    "collapsed": true
   },
   "outputs": [],
   "source": []
  }
 ],
 "metadata": {
  "anaconda-cloud": {},
  "kernelspec": {
   "display_name": "Python 2",
   "language": "python",
   "name": "python2"
  },
  "language_info": {
   "codemirror_mode": {
    "name": "ipython",
    "version": 2
   },
   "file_extension": ".py",
   "mimetype": "text/x-python",
   "name": "python",
   "nbconvert_exporter": "python",
   "pygments_lexer": "ipython2",
   "version": "2.7.13"
  }
 },
 "nbformat": 4,
 "nbformat_minor": 2
}
